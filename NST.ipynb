{
  "nbformat": 4,
  "nbformat_minor": 0,
  "metadata": {
    "colab": {
      "name": "NST.ipynb",
      "version": "0.3.2",
      "provenance": [],
      "collapsed_sections": []
    },
    "kernelspec": {
      "name": "python3",
      "display_name": "Python 3"
    },
    "accelerator": "GPU"
  },
  "cells": [
    {
      "metadata": {
        "id": "VefsVn-f2NZx",
        "colab_type": "code",
        "outputId": "8cc36888-3b80-4a76-88a1-d2789d38e401",
        "colab": {
          "base_uri": "https://localhost:8080/",
          "height": 34
        }
      },
      "cell_type": "code",
      "source": [
        "from google.colab import drive\n",
        "drive.mount('/content/drive/', timeout_ms=10000000)"
      ],
      "execution_count": 0,
      "outputs": [
        {
          "output_type": "stream",
          "text": [
            "Drive already mounted at /content/drive/; to attempt to forcibly remount, call drive.mount(\"/content/drive/\", force_remount=True).\n"
          ],
          "name": "stdout"
        }
      ]
    },
    {
      "metadata": {
        "id": "THl3n9ABoHn3",
        "colab_type": "code",
        "outputId": "9f0f104d-da6e-462c-f22f-7f37dbf59e5a",
        "colab": {
          "base_uri": "https://localhost:8080/",
          "height": 34
        }
      },
      "cell_type": "code",
      "source": [
        "import os\n",
        "\n",
        "os.chdir(\"drive/My Drive/ColabNotebooks/NST/images\")\n",
        "print(os.listdir())"
      ],
      "execution_count": 0,
      "outputs": [
        {
          "output_type": "stream",
          "text": [
            "['content.jpg', 'style.jpg', 'generated']\n"
          ],
          "name": "stdout"
        }
      ]
    },
    {
      "metadata": {
        "id": "NLBwe8zZ06Xv",
        "colab_type": "code",
        "outputId": "13d5bc35-0e57-4582-9181-be57acccbc65",
        "colab": {
          "base_uri": "https://localhost:8080/",
          "height": 34
        }
      },
      "cell_type": "code",
      "source": [
        "import numpy as np\n",
        "import keras.backend as K\n",
        "from scipy.misc import imsave, imresize\n",
        "from scipy.optimize import fmin_l_bfgs_b, fmin_tnc, fmin_cobyla, fmin_slsqp\n",
        "from keras.applications import vgg19\n",
        "from keras.preprocessing.image import load_img, img_to_array\n",
        "import time\n",
        "import urllib.request"
      ],
      "execution_count": 0,
      "outputs": [
        {
          "output_type": "stream",
          "text": [
            "Using TensorFlow backend.\n"
          ],
          "name": "stderr"
        }
      ]
    },
    {
      "metadata": {
        "id": "QyfWfvjTgKwp",
        "colab_type": "code",
        "outputId": "ee4d6863-d54a-43c0-9e7f-b84ed1ee31dc",
        "colab": {
          "base_uri": "https://localhost:8080/",
          "height": 34
        }
      },
      "cell_type": "code",
      "source": [
        "url = 'https://images-na.ssl-images-amazon.com/images/I/61t8isaMjZL._SX331_BO1,204,203,200_.jpg'  \n",
        "urllib.request.urlretrieve(url, 'style.jpg')"
      ],
      "execution_count": 0,
      "outputs": [
        {
          "output_type": "execute_result",
          "data": {
            "text/plain": [
              "('style.jpg', <http.client.HTTPMessage at 0x7f1e2b2716a0>)"
            ]
          },
          "metadata": {
            "tags": []
          },
          "execution_count": 151
        }
      ]
    },
    {
      "metadata": {
        "id": "t92uOdTj1Ela",
        "colab_type": "code",
        "colab": {}
      },
      "cell_type": "code",
      "source": [
        "def preprocess(img_path):\n",
        "    img = load_img(img_path)\n",
        "    img = img_to_array(img)\n",
        "    img = np.rot90(img)\n",
        "    img = imresize(img, (img_h, img_w, 3)).astype('float64')\n",
        "    img = np.expand_dims(img, axis=0)\n",
        "    img = vgg19.preprocess_input(img)\n",
        "\n",
        "    return img"
      ],
      "execution_count": 0,
      "outputs": []
    },
    {
      "metadata": {
        "id": "9OLw4Cjt1GIX",
        "colab_type": "code",
        "colab": {}
      },
      "cell_type": "code",
      "source": [
        "def deprocess_image(img):\n",
        "    img = img.reshape((img_h, img_w, 3))\n",
        "\n",
        "    # subtract mean RGB computed on ImgeNet DB\n",
        "    img[:, :, 0] += 103.939\n",
        "    img[:, :, 1] += 116.779\n",
        "    img[:, :, 2] += 123.68\n",
        "    img = img[:, :, ::-1]\n",
        "    img = np.clip(img, 0, 255).astype('float64')\n",
        "    return img"
      ],
      "execution_count": 0,
      "outputs": []
    },
    {
      "metadata": {
        "id": "VI6Xx9CF1xXp",
        "colab_type": "code",
        "colab": {}
      },
      "cell_type": "code",
      "source": [
        "def content_loss(content, gen):\n",
        "    return K.sum(K.square(gen - content))\n",
        "\n",
        "def gram_matrix(x):\n",
        "    features = K.batch_flatten(K.permute_dimensions(x, (2, 0, 1)))\n",
        "    gram = K.dot(features, K.transpose(features))\n",
        "    return gram\n",
        "\n",
        "def style_loss(style, gen): # find the Euclidean distance between the gram matrices of the feature maps\n",
        "    S = gram_matrix(style)\n",
        "    G = gram_matrix(gen)\n",
        "    channels = 3\n",
        "    size = img_h * img_w\n",
        "    return K.sum(K.square(S - G)/(4 * (channels**2) * (size**2)))"
      ],
      "execution_count": 0,
      "outputs": []
    },
    {
      "metadata": {
        "id": "LbQoZ7m610BX",
        "colab_type": "code",
        "colab": {}
      },
      "cell_type": "code",
      "source": [
        "def total_variation_loss(x): # to smooth the generated image\n",
        "    a = K.square(x[:, :img_h - 1, :img_w - 1, :] - x[:, 1:, :img_w - 1, :])\n",
        "    b = K.square(x[:, :img_h - 1, :img_w - 1, :] - x[:, :img_h - 1, 1:, :])\n",
        "\n",
        "    return K.sum(K.pow(a+b, 1.25))"
      ],
      "execution_count": 0,
      "outputs": []
    },
    {
      "metadata": {
        "id": "3U7G7YEm0-e3",
        "colab_type": "code",
        "colab": {}
      },
      "cell_type": "code",
      "source": [
        "CONTENT_IMG_PATH = \"content.jpg\"\n",
        "STYLE_IMG_PATH = \"style.jpg\""
      ],
      "execution_count": 0,
      "outputs": []
    },
    {
      "metadata": {
        "id": "LOLEzzEi15fS",
        "colab_type": "code",
        "colab": {}
      },
      "cell_type": "code",
      "source": [
        "h, w = load_img(CONTENT_IMG_PATH).size\n",
        "img_h = 400\n",
        "img_w = int(h*img_h / w)"
      ],
      "execution_count": 0,
      "outputs": []
    },
    {
      "metadata": {
        "id": "ziDfLFZg2BEU",
        "colab_type": "code",
        "outputId": "8e95297f-2966-4250-a951-7d5762a6df0d",
        "colab": {
          "base_uri": "https://localhost:8080/",
          "height": 1007
        }
      },
      "cell_type": "code",
      "source": [
        "content_img = K.variable(preprocess(CONTENT_IMG_PATH))\n",
        "style_img = K.variable(preprocess(STYLE_IMG_PATH))\n",
        "gen_img = K.placeholder(shape=(1, img_h, img_w, 3))\n",
        "\n",
        "input_tensor = K.concatenate([content_img, style_img, gen_img], axis=0)\n",
        "\n",
        "model = vgg19.VGG19(include_top=False, weights='imagenet', input_tensor=input_tensor)\n",
        "print('Model Loaded...')\n",
        "print(model.summary())\n",
        "\n",
        "output_dict = dict([(layer.name, layer.output) for layer in model.layers])"
      ],
      "execution_count": 0,
      "outputs": [
        {
          "output_type": "stream",
          "text": [
            "/usr/local/lib/python3.6/dist-packages/ipykernel_launcher.py:5: DeprecationWarning: `imresize` is deprecated!\n",
            "`imresize` is deprecated in SciPy 1.0.0, and will be removed in 1.2.0.\n",
            "Use ``skimage.transform.resize`` instead.\n",
            "  \"\"\"\n"
          ],
          "name": "stderr"
        },
        {
          "output_type": "stream",
          "text": [
            "Model Loaded...\n",
            "_________________________________________________________________\n",
            "Layer (type)                 Output Shape              Param #   \n",
            "=================================================================\n",
            "input_4 (InputLayer)         (None, None, None, 3)     0         \n",
            "_________________________________________________________________\n",
            "block1_conv1 (Conv2D)        (None, None, None, 64)    1792      \n",
            "_________________________________________________________________\n",
            "block1_conv2 (Conv2D)        (None, None, None, 64)    36928     \n",
            "_________________________________________________________________\n",
            "block1_pool (MaxPooling2D)   (None, None, None, 64)    0         \n",
            "_________________________________________________________________\n",
            "block2_conv1 (Conv2D)        (None, None, None, 128)   73856     \n",
            "_________________________________________________________________\n",
            "block2_conv2 (Conv2D)        (None, None, None, 128)   147584    \n",
            "_________________________________________________________________\n",
            "block2_pool (MaxPooling2D)   (None, None, None, 128)   0         \n",
            "_________________________________________________________________\n",
            "block3_conv1 (Conv2D)        (None, None, None, 256)   295168    \n",
            "_________________________________________________________________\n",
            "block3_conv2 (Conv2D)        (None, None, None, 256)   590080    \n",
            "_________________________________________________________________\n",
            "block3_conv3 (Conv2D)        (None, None, None, 256)   590080    \n",
            "_________________________________________________________________\n",
            "block3_conv4 (Conv2D)        (None, None, None, 256)   590080    \n",
            "_________________________________________________________________\n",
            "block3_pool (MaxPooling2D)   (None, None, None, 256)   0         \n",
            "_________________________________________________________________\n",
            "block4_conv1 (Conv2D)        (None, None, None, 512)   1180160   \n",
            "_________________________________________________________________\n",
            "block4_conv2 (Conv2D)        (None, None, None, 512)   2359808   \n",
            "_________________________________________________________________\n",
            "block4_conv3 (Conv2D)        (None, None, None, 512)   2359808   \n",
            "_________________________________________________________________\n",
            "block4_conv4 (Conv2D)        (None, None, None, 512)   2359808   \n",
            "_________________________________________________________________\n",
            "block4_pool (MaxPooling2D)   (None, None, None, 512)   0         \n",
            "_________________________________________________________________\n",
            "block5_conv1 (Conv2D)        (None, None, None, 512)   2359808   \n",
            "_________________________________________________________________\n",
            "block5_conv2 (Conv2D)        (None, None, None, 512)   2359808   \n",
            "_________________________________________________________________\n",
            "block5_conv3 (Conv2D)        (None, None, None, 512)   2359808   \n",
            "_________________________________________________________________\n",
            "block5_conv4 (Conv2D)        (None, None, None, 512)   2359808   \n",
            "_________________________________________________________________\n",
            "block5_pool (MaxPooling2D)   (None, None, None, 512)   0         \n",
            "=================================================================\n",
            "Total params: 20,024,384\n",
            "Trainable params: 20,024,384\n",
            "Non-trainable params: 0\n",
            "_________________________________________________________________\n",
            "None\n"
          ],
          "name": "stdout"
        }
      ]
    },
    {
      "metadata": {
        "id": "td0PwImZusOY",
        "colab_type": "code",
        "colab": {}
      },
      "cell_type": "code",
      "source": [
        "CONTENT_WEIGHT = 1e2\n",
        "STYLE_WEIGHT = 1e4\n",
        "TV_WEIGHT = 1e3"
      ],
      "execution_count": 0,
      "outputs": []
    },
    {
      "metadata": {
        "id": "nayGqk39v0jU",
        "colab_type": "code",
        "colab": {}
      },
      "cell_type": "code",
      "source": [
        "loss = 0\n",
        "\n",
        "# compute content loss\n",
        "layer_features = output_dict['block2_conv2'] # https://arxiv.org/abs/1603.08155\n",
        "content_img_features = layer_features[0, :, :, :]\n",
        "gen_img_features = layer_features[2, :, :, :]\n",
        "loss += CONTENT_WEIGHT * content_loss(content_img_features, gen_img_features)\n",
        "\n",
        "# compute style loss\n",
        "feature_layer_names = ['block1_conv2', 'block2_conv2', 'block3_conv4', 'block4_conv4', 'block5_conv4'] # https://arxiv.org/abs/1603.08155\n",
        "\n",
        "for name in feature_layer_names:\n",
        "    layer_features = output_dict[name]\n",
        "    style_features = layer_features[1, :, :, :]\n",
        "    gen_img_features = layer_features[2, :, :, :]\n",
        "    loss += (STYLE_WEIGHT / len(feature_layer_names)) * style_loss(style_features, gen_img_features)\n",
        "\n",
        "# compute total variation loss\n",
        "loss += TV_WEIGHT * total_variation_loss(gen_img) # reduce the amount of noise in the generated image"
      ],
      "execution_count": 0,
      "outputs": []
    },
    {
      "metadata": {
        "id": "84ZEegEpC6cJ",
        "colab_type": "code",
        "colab": {}
      },
      "cell_type": "code",
      "source": [
        "grads = K.gradients(loss, gen_img)\n",
        "f_output = K.function([gen_img], [loss] + grads) # calculate the loss and the gradients during the optimization"
      ],
      "execution_count": 0,
      "outputs": []
    },
    {
      "metadata": {
        "id": "qqyhZoaW-mGl",
        "colab_type": "code",
        "colab": {}
      },
      "cell_type": "code",
      "source": [
        "def eval_loss_and_grads(x):\n",
        "    x = x.reshape((1, img_h, img_w, 3))\n",
        "\n",
        "    global f_output\n",
        "    outs = f_output([x])\n",
        "    loss_value = outs[0]\n",
        "    if len(outs[1:]) == 1:\n",
        "        grad_values = outs[1].flatten().astype('float64')\n",
        "    else:\n",
        "        grad_values = np.array(outs[1:]).flatten().astype('float64')\n",
        "\n",
        "    return loss_value, grad_values\n",
        "\n",
        "class Evaluator:\n",
        "\n",
        "    def __init__(self):\n",
        "        self.loss_value = None\n",
        "        self.grad_value = None\n",
        "\n",
        "    def loss(self, x):\n",
        "        assert self.loss_value is None\n",
        "        self.loss_value, self.grad_value = eval_loss_and_grads(x)\n",
        "        return self.loss_value\n",
        "\n",
        "    def grads(self, x):\n",
        "        assert self.loss_value is not None\n",
        "        grads_values = np.copy(self.grad_value)\n",
        "        self.loss_value = None\n",
        "        self.grad_value = None\n",
        "        return grads_values"
      ],
      "execution_count": 0,
      "outputs": []
    },
    {
      "metadata": {
        "id": "0XMq83XK2Hn-",
        "colab_type": "code",
        "outputId": "b8285570-e63a-483c-bff8-4b4e341a9ec9",
        "colab": {
          "base_uri": "https://localhost:8080/",
          "height": 521
        }
      },
      "cell_type": "code",
      "source": [
        "ITER = 100\n",
        "\n",
        "evaluator = Evaluator()\n",
        "x = np.random.uniform(0, 255, (1, img_h, img_w, 3)) - 128.\n",
        "\n",
        "for i in range(ITER):\n",
        "    start_time = time.time()\n",
        "    print('step {} ==> '.format(i), end='')\n",
        "    x, min_val, info = fmin_l_bfgs_b(evaluator.loss, x.flatten(), fprime=evaluator.grads, maxfun=100)\n",
        "    print('loss: {},'.format(min_val), end='')\n",
        "    img = deprocess_image(x)\n",
        "    imsave('generated/generated_img{}.jpg'.format(i), img)\n",
        "    print(' Image saved. time: {}'.format(time.time() - start_time))"
      ],
      "execution_count": 0,
      "outputs": [
        {
          "output_type": "stream",
          "text": [
            "step 0 ==> loss: 150340733239296.0, Image saved. time: 55.3421049118042\n",
            "step 1 ==> "
          ],
          "name": "stdout"
        },
        {
          "output_type": "stream",
          "text": [
            "/usr/local/lib/python3.6/dist-packages/ipykernel_launcher.py:12: DeprecationWarning: `imsave` is deprecated!\n",
            "`imsave` is deprecated in SciPy 1.0.0, and will be removed in 1.2.0.\n",
            "Use ``imageio.imwrite`` instead.\n",
            "  if sys.path[0] == '':\n"
          ],
          "name": "stderr"
        },
        {
          "output_type": "stream",
          "text": [
            "loss: 125997311590400.0, Image saved. time: 53.718560457229614\n",
            "step 2 ==> loss: 123731582124032.0, Image saved. time: 53.7633740901947\n",
            "step 3 ==> loss: 121677665009664.0, Image saved. time: 53.58441495895386\n",
            "step 4 ==> loss: 119260504391680.0, Image saved. time: 53.86927795410156\n",
            "step 5 ==> loss: 121785643171840.0, Image saved. time: 53.780231952667236\n",
            "step 6 ==> loss: 123780504485888.0, Image saved. time: 53.80539608001709\n",
            "step 7 ==> loss: 121561952550912.0, Image saved. time: 54.141886949539185\n",
            "step 8 ==> loss: 117689200672768.0, Image saved. time: 53.825281858444214\n",
            "step 9 ==> loss: 120980236140544.0, Image saved. time: 53.798566579818726\n",
            "step 10 ==> loss: 117266154782720.0, Image saved. time: 53.66770648956299\n",
            "step 11 ==> loss: 115107480731648.0, Image saved. time: 53.87474536895752\n",
            "step 12 ==> loss: 121357354401792.0, Image saved. time: 53.84250092506409\n",
            "step 13 ==> loss: 115798743973888.0, Image saved. time: 54.03455471992493\n",
            "step 14 ==> loss: 121086679187456.0, Image saved. time: 53.73543953895569\n",
            "step 15 ==> loss: 114971526561792.0, Image saved. time: 54.362258434295654\n",
            "step 16 ==> loss: 116814184972288.0, Image saved. time: 53.8577139377594\n",
            "step 17 ==> loss: 117011954794496.0, Image saved. time: 54.332963705062866\n",
            "step 18 ==> loss: 114112197558272.0, Image saved. time: 54.03841590881348\n",
            "step 19 ==> loss: 117026509029376.0, Image saved. time: 53.738688945770264\n",
            "step 20 ==> loss: 114746686701568.0, Image saved. time: 54.32951474189758\n",
            "step 21 ==> loss: 116846204289024.0, Image saved. time: 53.648274660110474\n",
            "step 22 ==> loss: 115686907052032.0, Image saved. time: 53.759581565856934\n",
            "step 23 ==> loss: 116336764125184.0, Image saved. time: 53.72446131706238\n",
            "step 24 ==> "
          ],
          "name": "stdout"
        }
      ]
    },
    {
      "metadata": {
        "id": "vUn0Tt_Zj78X",
        "colab_type": "code",
        "colab": {}
      },
      "cell_type": "code",
      "source": [
        ""
      ],
      "execution_count": 0,
      "outputs": []
    }
  ]
}